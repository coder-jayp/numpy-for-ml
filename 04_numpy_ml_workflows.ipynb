{
 "cells": [
  {
   "cell_type": "markdown",
   "id": "16789a36",
   "metadata": {},
   "source": [
    "1️⃣ Generating Synthetic Data"
   ]
  },
  {
   "cell_type": "code",
   "execution_count": 6,
   "id": "f9e12764",
   "metadata": {},
   "outputs": [
    {
     "name": "stdout",
     "output_type": "stream",
     "text": [
      "Feature matrix X shape: (100, 3)\n",
      "Target vector y shape: (100,)\n"
     ]
    }
   ],
   "source": [
    "import numpy as np\n",
    "\n",
    "# Seed for reproducibility\n",
    "np.random.seed(42)\n",
    "\n",
    "# Features: 100 samples, 3 features\n",
    "X = np.random.rand(100, 3)\n",
    "\n",
    "# True coefficients\n",
    "true_w = np.array([3, 5, -2])\n",
    "\n",
    "# Target with noise\n",
    "y = X @ true_w + np.random.randn(100) * 0.5\n",
    "\n",
    "print(\"Feature matrix X shape:\", X.shape)\n",
    "print(\"Target vector y shape:\", y.shape)\n"
   ]
  },
  {
   "cell_type": "markdown",
   "id": "468159bb",
   "metadata": {},
   "source": [
    "2️⃣ Feature Scaling & Normalization"
   ]
  },
  {
   "cell_type": "code",
   "execution_count": 7,
   "id": "23b9ebf8",
   "metadata": {},
   "outputs": [
    {
     "name": "stdout",
     "output_type": "stream",
     "text": [
      "First 5 samples after standardization:\n",
      " [[-0.35958026  1.4198383   0.82216804]\n",
      " [ 0.42811633 -1.15479213 -1.18711031]\n",
      " [-1.47181267  1.14595419  0.36561862]\n",
      " [ 0.81266807 -1.59356748  1.65209819]\n",
      " [ 1.24978474 -0.97232681 -1.09700508]]\n"
     ]
    }
   ],
   "source": [
    "# Min-Max Scaling\n",
    "X_min = X.min(axis=0)\n",
    "X_max = X.max(axis=0)\n",
    "X_scaled = (X - X_min) / (X_max - X_min)\n",
    "\n",
    "# Standardization\n",
    "X_mean = X.mean(axis=0)\n",
    "X_std = X.std(axis=0)\n",
    "X_standardized = (X - X_mean) / X_std\n",
    "\n",
    "print(\"First 5 samples after standardization:\\n\", X_standardized[:5])"
   ]
  },
  {
   "cell_type": "markdown",
   "id": "7e72d1d8",
   "metadata": {},
   "source": [
    "3️⃣ Train/Test Split"
   ]
  },
  {
   "cell_type": "code",
   "execution_count": 8,
   "id": "9f77b846",
   "metadata": {},
   "outputs": [
    {
     "name": "stdout",
     "output_type": "stream",
     "text": [
      "Train shape: (80, 3) (80,)\n",
      "Test shape: (20, 3) (20,)\n"
     ]
    }
   ],
   "source": [
    "# Shuffle indices\n",
    "indices = np.arange(X.shape[0])\n",
    "np.random.shuffle(indices)\n",
    "\n",
    "# Split 80% train / 20% test\n",
    "train_size = int(0.8 * X.shape[0])\n",
    "train_idx, test_idx = indices[:train_size], indices[train_size:]\n",
    "\n",
    "X_train, X_test = X[train_idx], X[test_idx]\n",
    "y_train, y_test = y[train_idx], y[test_idx]\n",
    "\n",
    "print(\"Train shape:\", X_train.shape, y_train.shape)\n",
    "print(\"Test shape:\", X_test.shape, y_test.shape)"
   ]
  },
  {
   "cell_type": "markdown",
   "id": "2ad1eb68",
   "metadata": {},
   "source": [
    "4️⃣ Linear Regression"
   ]
  },
  {
   "cell_type": "code",
   "execution_count": 9,
   "id": "3431feb1",
   "metadata": {},
   "outputs": [
    {
     "name": "stdout",
     "output_type": "stream",
     "text": [
      "Learned coefficients: [ 3.10335623  4.88877018 -1.86726428]\n",
      "Test MSE: 0.27073697380442907\n"
     ]
    }
   ],
   "source": [
    "# Closed-form solution (Normal Equation)\n",
    "w_hat = np.linalg.inv(X_train.T @ X_train) @ X_train.T @ y_train\n",
    "\n",
    "# Predictions\n",
    "y_pred = X_test @ w_hat\n",
    "\n",
    "# Mean Squared Error\n",
    "mse = np.mean((y_test - y_pred)**2)\n",
    "print(\"Learned coefficients:\", w_hat)\n",
    "print(\"Test MSE:\", mse)"
   ]
  },
  {
   "cell_type": "markdown",
   "id": "222fd3e8",
   "metadata": {},
   "source": [
    "5️⃣ Vectorized Operations & Efficiency"
   ]
  },
  {
   "cell_type": "code",
   "execution_count": 10,
   "id": "dc0330c6",
   "metadata": {},
   "outputs": [
    {
     "name": "stdout",
     "output_type": "stream",
     "text": [
      "Distance matrix shape: (80, 80)\n"
     ]
    }
   ],
   "source": [
    "# Example: compute Euclidean distance between all points\n",
    "dists = np.sqrt(np.sum((X_train[:, np.newaxis, :] - X_train[np.newaxis, :, :])**2, axis=2))\n",
    "print(\"Distance matrix shape:\", dists.shape)"
   ]
  },
  {
   "cell_type": "markdown",
   "id": "670f767c",
   "metadata": {},
   "source": [
    "6️⃣ Summary\n",
    "\n",
    "In this notebook, we learned:\n",
    "\n",
    "How to generate synthetic ML datasets\n",
    "\n",
    "Feature scaling & normalization\n",
    "\n",
    "Train/test splitting without libraries\n",
    "\n",
    "Implementing linear regression from scratch\n",
    "\n",
    "Vectorized operations for efficiency\n",
    "\n",
    "👉 Next: NumPy + Matplotlib for ML Visualization or Introduction to scikit-learn workflows."
   ]
  }
 ],
 "metadata": {
  "kernelspec": {
   "display_name": "Python 3",
   "language": "python",
   "name": "python3"
  },
  "language_info": {
   "codemirror_mode": {
    "name": "ipython",
    "version": 3
   },
   "file_extension": ".py",
   "mimetype": "text/x-python",
   "name": "python",
   "nbconvert_exporter": "python",
   "pygments_lexer": "ipython3",
   "version": "3.12.5"
  }
 },
 "nbformat": 4,
 "nbformat_minor": 5
}
