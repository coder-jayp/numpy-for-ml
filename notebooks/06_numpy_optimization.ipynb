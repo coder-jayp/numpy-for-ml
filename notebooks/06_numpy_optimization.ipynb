{
 "cells": [
  {
   "cell_type": "markdown",
   "id": "561269dd",
   "metadata": {},
   "source": [
    "# ⚡ 06 - NumPy Optimization & Performance\n",
    "\n",
    "In this notebook, we’ll explore why **NumPy is fast**, and how to optimize code using **vectorization, broadcasting, and memory-efficient techniques**.\n",
    "\n",
    "---\n",
    "\n",
    "## 1. Imports\n",
    "```python\n",
    "import numpy as np\n"
   ]
  },
  {
   "cell_type": "code",
   "execution_count": null,
   "id": "cf5bca11",
   "metadata": {},
   "outputs": [
    {
     "name": "stdout",
     "output_type": "stream",
     "text": [
      "Python loop sum: 49999995000000 Time: 0.745593786239624\n",
      "NumPy sum: -2014260032 Time: 0.005000114440917969\n"
     ]
    }
   ],
   "source": [
    "import numpy as np\n",
    "import time\n",
    "\n",
    "N = 10_000_000\n",
    "a = list(range(N))\n",
    "\n",
    "start = time.time()\n",
    "sum_loop = 0\n",
    "for i in a:\n",
    "    sum_loop += i\n",
    "end = time.time()\n",
    "print(\"Python loop sum:\", sum_loop, \"Time:\", end - start)\n",
    "\n",
    "arr = np.arange(N)\n",
    "start = time.time()\n",
    "sum_numpy = arr.sum()\n",
    "end = time.time()\n",
    "print(\"NumPy sum:\", sum_numpy, \"Time:\", end - start)\n"
   ]
  },
  {
   "cell_type": "code",
   "execution_count": 2,
   "id": "f6f4ec6e",
   "metadata": {},
   "outputs": [],
   "source": [
    "N = 1_000_000\n",
    "x = np.random.rand(N)\n",
    "\n",
    "squares_loop = [i**2 for i in x]\n",
    "\n",
    "squares_vec = x**2"
   ]
  },
  {
   "cell_type": "code",
   "execution_count": 3,
   "id": "9430e8ae",
   "metadata": {},
   "outputs": [
    {
     "name": "stdout",
     "output_type": "stream",
     "text": [
      "Original matrix:\n",
      " [[-0.09034884 -1.09383384  1.65070673]\n",
      " [ 0.2708016  -0.74554702  0.02502504]\n",
      " [ 0.88482834  1.30986285  1.21464809]\n",
      " [-0.53281872  0.0080556   1.31313637]\n",
      " [-0.977813   -0.09587635 -1.14969611]]\n",
      "\n",
      "Normalized (vectorized):\n",
      " [[-0.04557805 -0.55180353  0.83272775]\n",
      " [ 0.34123208 -0.93945     0.03153359]\n",
      " [ 0.44385728  0.65706775  0.60930508]\n",
      " [-0.37598152  0.0056844   0.92660973]\n",
      " [-0.64656489 -0.06339687 -0.76022015]]\n"
     ]
    }
   ],
   "source": [
    "X = np.random.randn(5, 3)\n",
    "print(\"Original matrix:\\n\", X)\n",
    "\n",
    "X_norm_loop = np.zeros_like(X)\n",
    "for i in range(X.shape[0]):\n",
    "    X_norm_loop[i, :] = X[i, :] / np.linalg.norm(X[i, :])\n",
    "\n",
    "row_norms = np.linalg.norm(X, axis=1, keepdims=True)\n",
    "X_norm_vec = X / row_norms\n",
    "\n",
    "print(\"\\nNormalized (vectorized):\\n\", X_norm_vec)\n"
   ]
  },
  {
   "cell_type": "code",
   "execution_count": 4,
   "id": "7f7a6d93",
   "metadata": {},
   "outputs": [
    {
     "name": "stdout",
     "output_type": "stream",
     "text": [
      "79.3 µs ± 6.29 µs per loop (mean ± std. dev. of 7 runs, 10,000 loops each)\n",
      "2.56 µs ± 83.7 ns per loop (mean ± std. dev. of 7 runs, 100,000 loops each)\n"
     ]
    }
   ],
   "source": [
    "x = np.random.rand(1000)\n",
    "\n",
    "def loop_sum(x):\n",
    "    total = 0\n",
    "    for i in x:\n",
    "        total += i\n",
    "    return total\n",
    "\n",
    "%timeit loop_sum(x)\n",
    "%timeit np.sum(x)\n"
   ]
  },
  {
   "cell_type": "code",
   "execution_count": null,
   "id": "67eec9be",
   "metadata": {},
   "outputs": [],
   "source": [
    "a_float32 = np.ones((1000, 1000), dtype=np.float32)\n",
    "a_float64 = np.ones((1000, 1000), dtype=np.float64)\n",
    "\n",
    "print(\"Float32 size:\", a_float32.nbytes, \"bytes\")\n",
    "print(\"Float64 size:\", a_float64.nbytes, \"bytes\")"
   ]
  },
  {
   "cell_type": "code",
   "execution_count": 5,
   "id": "0f54453b",
   "metadata": {},
   "outputs": [
    {
     "name": "stdout",
     "output_type": "stream",
     "text": [
      "Theta (loop version): [4.17478007 2.92260758]\n",
      "Theta (vectorized): [4.17478002 2.92260762]\n"
     ]
    }
   ],
   "source": [
    "np.random.seed(42)\n",
    "X = 2 * np.random.rand(1000, 1)\n",
    "y = 4 + 3 * X + np.random.randn(1000, 1)\n",
    "\n",
    "X_b = np.c_[np.ones((1000, 1)), X]\n",
    "\n",
    "theta = np.random.randn(2, 1)\n",
    "lr = 0.1\n",
    "epochs = 1000\n",
    "\n",
    "for epoch in range(epochs):\n",
    "    gradients = np.zeros_like(theta)\n",
    "    for i in range(len(X_b)):\n",
    "        xi = X_b[i:i+1]\n",
    "        yi = y[i:i+1]\n",
    "        gradients += xi.T @ (xi @ theta - yi)\n",
    "    gradients /= len(X_b)\n",
    "    theta -= lr * gradients\n",
    "\n",
    "print(\"Theta (loop version):\", theta.ravel())\n",
    "\n",
    "theta_vec = np.random.randn(2, 1)\n",
    "\n",
    "for epoch in range(epochs):\n",
    "    gradients = X_b.T @ (X_b @ theta_vec - y) / len(X_b)\n",
    "    theta_vec -= lr * gradients\n",
    "\n",
    "print(\"Theta (vectorized):\", theta_vec.ravel())"
   ]
  }
 ],
 "metadata": {
  "kernelspec": {
   "display_name": "Python 3",
   "language": "python",
   "name": "python3"
  },
  "language_info": {
   "codemirror_mode": {
    "name": "ipython",
    "version": 3
   },
   "file_extension": ".py",
   "mimetype": "text/x-python",
   "name": "python",
   "nbconvert_exporter": "python",
   "pygments_lexer": "ipython3",
   "version": "3.12.5"
  }
 },
 "nbformat": 4,
 "nbformat_minor": 5
}
