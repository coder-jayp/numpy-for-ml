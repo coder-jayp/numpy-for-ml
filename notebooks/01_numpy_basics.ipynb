{
 "cells": [
  {
   "cell_type": "markdown",
   "id": "092528c2",
   "metadata": {},
   "source": [
    "---\n",
    "👨‍💻 **Author:** Jay Prajapati  \n",
    "📘 **Project:** NumPy for ML  \n",
    "📅 **Created:** August 2025  \n",
    "---\n"
   ]
  },
  {
   "cell_type": "markdown",
   "id": "320675cf",
   "metadata": {},
   "source": [
    "# NumPy Basics 🚀\n",
    "\n",
    "This notebook introduces the **fundamentals of NumPy**, the core library for numerical computing in Python.  \n",
    "We’ll explore:\n",
    "\n",
    "1. Array creation  \n",
    "2. Array attributes  \n",
    "3. Special arrays  \n",
    "4. Indexing & slicing  \n",
    "5. Basic operations  \n",
    "6. Reshaping  \n",
    "\n",
    "👉 Why this matters for ML/AI:  \n",
    "Every machine learning model relies on **matrices and vectors** (tensors). NumPy provides the foundation for these operations efficiently.\n"
   ]
  },
  {
   "cell_type": "code",
   "execution_count": 43,
   "id": "15ce4699",
   "metadata": {},
   "outputs": [
    {
     "name": "stdout",
     "output_type": "stream",
     "text": [
      "Numpy version: 1.26.4\n"
     ]
    }
   ],
   "source": [
    "import numpy as np\n",
    "\n",
    "print(\"Numpy version:\", np.__version__)"
   ]
  },
  {
   "cell_type": "markdown",
   "id": "88c76f96",
   "metadata": {},
   "source": [
    "## 1. Creating Arrays\n",
    "\n",
    "NumPy’s core data structure is the **ndarray** (N-dimensional array).  \n",
    "Think of it as a supercharged list that supports mathematical operations directly."
   ]
  },
  {
   "cell_type": "code",
   "execution_count": 44,
   "id": "b0799d70",
   "metadata": {},
   "outputs": [
    {
     "name": "stdout",
     "output_type": "stream",
     "text": [
      "Vector (1D):\n",
      " [1 2 3 4 5]\n",
      "\n",
      "Matrix (2D):\n",
      " [[1 2 3]\n",
      " [4 5 6]]\n",
      "\n",
      "Tensor (3D):\n",
      " [[[1]\n",
      "  [2]\n",
      "  [3]]\n",
      "\n",
      " [[4]\n",
      "  [5]\n",
      "  [6]]]\n"
     ]
    }
   ],
   "source": [
    "# 1D array (vector)\n",
    "vector = np.array([1, 2, 3, 4, 5])  \n",
    "\n",
    "# 2D array (matrix)\n",
    "matrix = np.array([[1, 2, 3], \n",
    "               [4, 5, 6]])\n",
    "\n",
    "# 3D array (tensor) \n",
    "tensor = np.array([[[1], [2], [3]], \n",
    "                [[4], [5], [6]]])  \n",
    "\n",
    "print(\"Vector (1D):\\n\", vector)\n",
    "print(\"\\nMatrix (2D):\\n\", matrix)\n",
    "print(\"\\nTensor (3D):\\n\", tensor)"
   ]
  },
  {
   "cell_type": "markdown",
   "id": "548039be",
   "metadata": {},
   "source": [
    "## 2. Array Attributes\n",
    "\n",
    "Every array has important properties:\n",
    "- **Shape** → dimensions of the array  \n",
    "- **Size** → total number of elements  \n",
    "- **Data type (dtype)** → type of values stored  \n",
    "- **Number of dimensions (ndim)**  \n",
    "\n",
    "These are critical when working with ML models, since data must be in the correct **shape**.\n"
   ]
  },
  {
   "cell_type": "code",
   "execution_count": 45,
   "id": "40de6d7d",
   "metadata": {},
   "outputs": [
    {
     "name": "stdout",
     "output_type": "stream",
     "text": [
      "Matrix shape  : (2, 3)\n",
      "Matrix Size   : 6\n",
      "Data type     : int32\n",
      "Dimensions    : 2\n"
     ]
    }
   ],
   "source": [
    "print(\"Matrix shape  :\", matrix.shape)  # rows x cols\n",
    "print(\"Matrix Size   :\", matrix.size)   # total number of elements\n",
    "print(\"Data type     :\", matrix.dtype)   # type of elements\n",
    "print(\"Dimensions    :\", matrix.ndim) # 1D / 2D / 3D etc."
   ]
  },
  {
   "cell_type": "markdown",
   "id": "df7c19d7",
   "metadata": {},
   "source": [
    "## 3. Special Arrays\n",
    "\n",
    "NumPy provides functions to create commonly used arrays:\n",
    "- **Zeros & Ones** → useful for initializing weights  \n",
    "- **Identity matrix** → common in linear algebra  \n",
    "- **Random numbers** → often used for ML initialization & data simulation\n"
   ]
  },
  {
   "cell_type": "code",
   "execution_count": 46,
   "id": "e023c4bb",
   "metadata": {},
   "outputs": [
    {
     "name": "stdout",
     "output_type": "stream",
     "text": [
      "Zeros matrix:\n",
      " [[0. 0. 0.]\n",
      " [0. 0. 0.]\n",
      " [0. 0. 0.]]\n",
      "\n",
      "Ones matirx:\n",
      " [[1. 1. 1. 1.]\n",
      " [1. 1. 1. 1.]]\n",
      "\n",
      "Identity matrix:\n",
      " [[1. 0. 0. 0.]\n",
      " [0. 1. 0. 0.]\n",
      " [0. 0. 1. 0.]\n",
      " [0. 0. 0. 1.]]\n",
      "\n",
      "Random matrix:\n",
      " [[0.69182024 0.68825159 0.28637258]\n",
      " [0.29812652 0.64601617 0.42756321]\n",
      " [0.40011527 0.49441159 0.93698213]]\n"
     ]
    }
   ],
   "source": [
    "# common initializations\n",
    "zeros_matrix = np.zeros((3,3))\n",
    "ones_matrix = np.ones((2,4))\n",
    "identity_matrix = np.eye(4)\n",
    "random_matrix = np.random.rand(3,3)\n",
    "\n",
    "print(\"Zeros matrix:\\n\", zeros_matrix)\n",
    "print(\"\\nOnes matirx:\\n\", ones_matrix)\n",
    "print(\"\\nIdentity matrix:\\n\", identity_matrix)\n",
    "print(\"\\nRandom matrix:\\n\", random_matrix)"
   ]
  },
  {
   "cell_type": "markdown",
   "id": "2afc4139",
   "metadata": {},
   "source": [
    "## 4. Indexing & Slicing\n",
    "\n",
    "Accessing elements of arrays is critical for **data preprocessing**.  \n",
    "Similar to Python lists, but more powerful with **multidimensional slicing**."
   ]
  },
  {
   "cell_type": "code",
   "execution_count": 32,
   "id": "47154fcf",
   "metadata": {},
   "outputs": [
    {
     "name": "stdout",
     "output_type": "stream",
     "text": [
      "Array: [0 1 2 3 4 5 6 7 8 9]\n",
      "First element    : 0\n",
      "Last element     : 9\n",
      "Slice [2:7]      : [2 3 4 5 6]\n",
      "Every 2nd element: [0 2 4 6 8]\n"
     ]
    }
   ],
   "source": [
    "arr = np.arange(10)  # array [0,1,2,.....9]\n",
    "print(\"Array:\", arr)\n",
    "\n",
    "# Accessing elements \n",
    "print(\"First element    :\", arr[0])\n",
    "print(\"Last element     :\", arr[-1])\n",
    "\n",
    "#slicing\n",
    "print(\"Slice [2:7]      :\", arr[2:7]) # elements at index 2-6\n",
    "print(\"Every 2nd element:\", arr[::2]) # step = 2"
   ]
  },
  {
   "cell_type": "markdown",
   "id": "4dc3021b",
   "metadata": {},
   "source": [
    "## 5. Basic Operations\n",
    "\n",
    "NumPy allows **vectorized operations** (no loops needed):\n",
    "- Element-wise operations (`+`, `*`)  \n",
    "- Dot products (essential for ML models)  \n",
    "- Power operations  \n",
    "\n",
    "👉 This efficiency is why ML libraries like TensorFlow & PyTorch are built on top of NumPy.\n"
   ]
  },
  {
   "cell_type": "code",
   "execution_count": 36,
   "id": "5a5182a1",
   "metadata": {},
   "outputs": [
    {
     "name": "stdout",
     "output_type": "stream",
     "text": [
      "X = [1 2 3]\n",
      "y = [4 5 6]\n",
      "\n",
      "Addition      : [5 7 9]\n",
      "Multiplication: [ 4 10 18]\n",
      "x dot y = 32\n",
      "x squared = [1 4 9]\n"
     ]
    }
   ],
   "source": [
    "x = np.array([1,2,3])\n",
    "y = np.array([4,5,6])\n",
    "\n",
    "print(\"X =\", x)\n",
    "print(\"y =\", y)\n",
    "\n",
    "# Element wise operations\n",
    "print(\"\\nAddition      :\", x + y)\n",
    "print(\"Multiplication:\", x * y)\n",
    "\n",
    "# Dot product (important in ML for weighted sums)\n",
    "print(\"x dot y =\", np.dot(x,y))\n",
    "\n",
    "# Element-wise power\n",
    "print(\"x squared =\", x**2)\n"
   ]
  },
  {
   "cell_type": "markdown",
   "id": "89b651ea",
   "metadata": {},
   "source": [
    "## 6. Reshaping\n",
    "\n",
    "Data often needs to be **reshaped** into the correct format:  \n",
    "- A dataset may come as a flat array but needs to be shaped into (samples, features).  \n",
    "- Reshaping is also key when feeding data into ML models.\n"
   ]
  },
  {
   "cell_type": "code",
   "execution_count": 37,
   "id": "f391103e",
   "metadata": {},
   "outputs": [
    {
     "name": "stdout",
     "output_type": "stream",
     "text": [
      "Original (1D): [ 1  2  3  4  5  6  7  8  9 10 11 12]\n",
      "\n",
      "Reshaped (3x4):\n",
      " [[ 1  2  3  4]\n",
      " [ 5  6  7  8]\n",
      " [ 9 10 11 12]]\n"
     ]
    }
   ],
   "source": [
    "arr = np.arange(1,13)  # [1..12]\n",
    "reshaped = arr.reshape(3,4)\n",
    "\n",
    "print(\"Original (1D):\", arr)\n",
    "print(\"\\nReshaped (3x4):\\n\", reshaped)"
   ]
  },
  {
   "cell_type": "markdown",
   "id": "90a123ef",
   "metadata": {},
   "source": [
    "## 7. Practical Example in ML Context 🎯\n",
    "\n",
    "So far, we’ve looked at arrays in isolation.  \n",
    "But in **Machine Learning**, data is usually represented as:\n",
    "\n",
    "- **Feature Matrix (X):** rows = samples, columns = features  \n",
    "- **Target Vector (y):** labels or values we want to predict  \n",
    "\n",
    "For example, consider a simple classification problem (like Iris dataset).  \n",
    "We’ll represent **4 samples** with **3 features each**, and their class labels.\n"
   ]
  },
  {
   "cell_type": "code",
   "execution_count": 42,
   "id": "eff8ccb1",
   "metadata": {},
   "outputs": [
    {
     "name": "stdout",
     "output_type": "stream",
     "text": [
      "Feature matrix (X):\n",
      " [[5.1 3.5 1.4]\n",
      " [4.9 3.  1.4]\n",
      " [6.2 3.4 5.4]\n",
      " [5.9 3.  5.1]]\n",
      "\n",
      "Target vector (y): [0 0 1 1]\n",
      "\n",
      "shape of X: (4, 3)\n",
      "Shape of y: (4,)\n"
     ]
    }
   ],
   "source": [
    "# Example: Feature matrix (x) and target vector (y) for ML\n",
    "\n",
    "#suppose we have 4 samples and 3 features each\n",
    "\n",
    "X = np.array([[5.1, 3.5, 1.4],\n",
    "             [4.9, 3.0, 1.4],\n",
    "             [6.2, 3.4, 5.4],\n",
    "             [5.9, 3.0, 5.1]])\n",
    "\n",
    "# Target labels (classification: 0 = class A, 1 = class B)\n",
    "y = np.array([0, 0, 1, 1])\n",
    "\n",
    "print(\"Feature matrix (X):\\n\", X)\n",
    "print(\"\\nTarget vector (y):\", y)\n",
    "print(\"\\nshape of X:\", X.shape)  # (samples, features)\n",
    "print(\"Shape of y:\", y.shape) # (samples,)"
   ]
  },
  {
   "cell_type": "markdown",
   "id": "6d827bb6",
   "metadata": {},
   "source": [
    "## ✅ Summary\n",
    "\n",
    "In this notebook, we learned:\n",
    "\n",
    "- How to create NumPy arrays (1D, 2D, 3D)  \n",
    "- Array attributes (shape, size, dtype, ndim)  \n",
    "- Special arrays (zeros, ones, identity, random)  \n",
    "- Indexing & slicing  \n",
    "- Basic operations (addition, multiplication, dot product)  \n",
    "- Reshaping arrays  \n",
    "- A **practical ML example** (feature matrix `X` + target vector `y`)  \n",
    "\n",
    "👉 These operations are the **foundation for ML/AI workflows**,  \n",
    "where data is usually represented as arrays/tensors.  \n",
    "\n",
    "🔜 In the next notebook, we’ll cover **Broadcasting & Advanced Array Operations**.\n"
   ]
  }
 ],
 "metadata": {
  "kernelspec": {
   "display_name": "Python 3",
   "language": "python",
   "name": "python3"
  },
  "language_info": {
   "codemirror_mode": {
    "name": "ipython",
    "version": 3
   },
   "file_extension": ".py",
   "mimetype": "text/x-python",
   "name": "python",
   "nbconvert_exporter": "python",
   "pygments_lexer": "ipython3",
   "version": "3.12.5"
  }
 },
 "nbformat": 4,
 "nbformat_minor": 5
}
