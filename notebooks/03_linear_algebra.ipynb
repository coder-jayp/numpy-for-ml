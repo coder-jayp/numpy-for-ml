{
 "cells": [
  {
   "cell_type": "markdown",
   "id": "dfd8da65",
   "metadata": {},
   "source": [
    "# 📘 Notebook 3: Linear Algebra with NumPy  "
   ]
  },
  {
   "cell_type": "markdown",
   "id": "07a36a4b",
   "metadata": {},
   "source": [
    "---\n",
    "\n",
    "## 1️⃣ Introduction  \n",
    "\n",
    "Linear algebra is at the **heart of Machine Learning**.  \n",
    "Most ML algorithms (Linear Regression, PCA, Neural Nets) are just **matrix operations**.  \n",
    "\n",
    "We’ll cover:  \n",
    "- Vector & Matrix operations  \n",
    "- Transpose, Inverse, Determinant  \n",
    "- Eigenvalues/Eigenvectors  \n",
    "- Singular Value Decomposition (SVD)  \n",
    "- ML Example → Linear Regression using the Normal Equation  \n",
    "\n",
    "---"
   ]
  },
  {
   "cell_type": "markdown",
   "id": "63826a1a",
   "metadata": {},
   "source": [
    "## 1️⃣ Vectors & Dot Product\n",
    "\n",
    "The **dot product** is a fundamental operation in linear algebra."
   ]
  },
  {
   "cell_type": "code",
   "execution_count": 2,
   "id": "2c545dc9",
   "metadata": {},
   "outputs": [],
   "source": [
    "import numpy as np\n",
    "from sklearn.linear_model import LinearRegression"
   ]
  },
  {
   "cell_type": "code",
   "execution_count": 3,
   "id": "31b741e5",
   "metadata": {},
   "outputs": [
    {
     "name": "stdout",
     "output_type": "stream",
     "text": [
      "Dot Product (np.dot): 32\n",
      "Dot Product (@operator): 32\n"
     ]
    }
   ],
   "source": [
    "a = np.array([1,2,3])\n",
    "b = np.array([4,5,6])\n",
    "\n",
    "# Method 1\n",
    "dot1 = np.dot(a,b)\n",
    "\n",
    "# Method 2 (Python 3.5+ operator)\n",
    "dot2 = a @ b\n",
    "\n",
    "print(\"Dot Product (np.dot):\", dot1)\n",
    "print(\"Dot Product (@operator):\", dot2)"
   ]
  },
  {
   "cell_type": "code",
   "execution_count": 4,
   "id": "d3b7f760",
   "metadata": {},
   "outputs": [
    {
     "name": "stdout",
     "output_type": "stream",
     "text": [
      "Matrix Multiplication:\n",
      " [[19 22]\n",
      " [43 50]]\n"
     ]
    }
   ],
   "source": [
    "A = np.array([[1,2],\n",
    "             [3,4]])\n",
    "\n",
    "B = np.array([[5, 6],\n",
    "             [7,8]])\n",
    "\n",
    "C = np.matmul(A, B)  # or A @ B\n",
    "print(\"Matrix Multiplication:\\n\", C)"
   ]
  },
  {
   "cell_type": "code",
   "execution_count": 5,
   "id": "ae0dc6a0",
   "metadata": {},
   "outputs": [
    {
     "name": "stdout",
     "output_type": "stream",
     "text": [
      "Original:\n",
      " [[1 2 3]\n",
      " [4 5 6]]\n",
      "Transpose:\n",
      " [[1 4]\n",
      " [2 5]\n",
      " [3 6]]\n"
     ]
    }
   ],
   "source": [
    "M = np.array([[1,2,3],\n",
    "              [4,5,6]])\n",
    "\n",
    "print(\"Original:\\n\", M)\n",
    "print(\"Transpose:\\n\", M.T)"
   ]
  },
  {
   "cell_type": "code",
   "execution_count": 6,
   "id": "cad21c64",
   "metadata": {},
   "outputs": [
    {
     "name": "stdout",
     "output_type": "stream",
     "text": [
      "Determinant: 10.000000000000002\n",
      "Inverse:\n",
      " [[ 0.6 -0.7]\n",
      " [-0.2  0.4]]\n"
     ]
    }
   ],
   "source": [
    "M = np.array([[4,7],\n",
    "             [2,6]])\n",
    "\n",
    "det = np.linalg.det(M)\n",
    "inv = np.linalg.inv(M)\n",
    "\n",
    "print(\"Determinant:\",det)\n",
    "print(\"Inverse:\\n\", inv)"
   ]
  },
  {
   "cell_type": "code",
   "execution_count": 7,
   "id": "0ec7fa8b",
   "metadata": {},
   "outputs": [
    {
     "name": "stdout",
     "output_type": "stream",
     "text": [
      "Eigenvalue:\n",
      " [3. 2.]\n",
      "Eigenvectors:\n",
      " [[0.89442719 0.70710678]\n",
      " [0.4472136  0.70710678]]\n"
     ]
    }
   ],
   "source": [
    "M = np.array([[4, -2],\n",
    "              [1, 1]])\n",
    "\n",
    "eig_vals, eig_vecs = np.linalg.eig(M)\n",
    "\n",
    "print(\"Eigenvalue:\\n\", eig_vals)\n",
    "print(\"Eigenvectors:\\n\", eig_vecs)"
   ]
  },
  {
   "cell_type": "code",
   "execution_count": 9,
   "id": "4fe85307",
   "metadata": {},
   "outputs": [
    {
     "name": "stdout",
     "output_type": "stream",
     "text": [
      "U:\n",
      " [[-0.70710678 -0.70710678]\n",
      " [-0.70710678  0.70710678]]\n",
      "Singular Values:\n",
      " 5\n",
      "V^T:\n",
      " [[-4.08248290e-01 -8.16496581e-01 -4.08248290e-01]\n",
      " [-8.94427191e-01  4.47213595e-01  5.26260748e-16]\n",
      " [-1.82574186e-01 -3.65148372e-01  9.12870929e-01]]\n"
     ]
    }
   ],
   "source": [
    "M = np.array([[3, 1, 1],\n",
    "             [-1, 3, 1]])\n",
    "\n",
    "U, S, Vt = np.linalg.svd(M)\n",
    "\n",
    "print(\"U:\\n\", U)\n",
    "print(\"Singular Values:\\n\", 5)\n",
    "print(\"V^T:\\n\", Vt)"
   ]
  },
  {
   "cell_type": "code",
   "execution_count": null,
   "id": "abcc687e",
   "metadata": {},
   "outputs": [
    {
     "name": "stdout",
     "output_type": "stream",
     "text": [
      "Theta (Intercept, Slope): [1.9 0.7]\n"
     ]
    }
   ],
   "source": [
    "# Dataset: predicting y from x\n",
    "X = np.array([1, 2, 3, 4, 5])\n",
    "y = np.array([3, 4, 2, 5, 6])\n",
    "\n",
    "# Reshape X into feature matrix with bias term\n",
    "X_b = np.c_[np.ones((len(X), 1)), X.reshape(-1, 1)]\n",
    "\n",
    "# Normal Equation\n",
    "theta = np.linalg.inv(X_b.T @ X_b) @ X_b.T @ y\n",
    "\n",
    "print(\"Theta (Intercept, Slope):\", theta)\n"
   ]
  },
  {
   "cell_type": "code",
   "execution_count": 16,
   "id": "a0a9da50",
   "metadata": {},
   "outputs": [
    {
     "name": "stdout",
     "output_type": "stream",
     "text": [
      "Sklearn Coefficients: 1.9000000000000004 0.6999999999999998\n"
     ]
    }
   ],
   "source": [
    "model = LinearRegression()\n",
    "model.fit(X.reshape(-1, 1), y)\n",
    "\n",
    "print(\"Sklearn Coefficients:\", model.intercept_, model.coef_[0])"
   ]
  }
 ],
 "metadata": {
  "kernelspec": {
   "display_name": "Python 3",
   "language": "python",
   "name": "python3"
  },
  "language_info": {
   "codemirror_mode": {
    "name": "ipython",
    "version": 3
   },
   "file_extension": ".py",
   "mimetype": "text/x-python",
   "name": "python",
   "nbconvert_exporter": "python",
   "pygments_lexer": "ipython3",
   "version": "3.12.5"
  }
 },
 "nbformat": 4,
 "nbformat_minor": 5
}
