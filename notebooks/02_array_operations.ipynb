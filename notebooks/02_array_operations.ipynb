{
 "cells": [
  {
   "cell_type": "markdown",
   "id": "ab631b73",
   "metadata": {},
   "source": [
    "# 📓 NumPy Array Operations: Broadcasting, Aggregation & Advanced Indexing  \n",
    "\n",
    "In this notebook, we explore core NumPy array operations that are essential for data science and machine learning:\n",
    "- **Broadcasting** → handling operations on different shapes\n",
    "- **Aggregation** → summarizing data (sum, mean, std, etc.)\n",
    "- **Advanced Indexing** → powerful ways to extract subsets\n",
    "- **ML Context Example** → feature normalization\n"
   ]
  },
  {
   "cell_type": "markdown",
   "id": "631a1301",
   "metadata": {},
   "source": [
    "## 🏷️ Learning Goals  \n",
    "By the end of this notebook, you will:  \n",
    "- ✅ Understand broadcasting rules  \n",
    "- ✅ Perform aggregation functions (sum, mean, std, etc.)  \n",
    "- ✅ Use advanced indexing (boolean masking, fancy indexing)  \n",
    "- ✅ Apply these operations in ML feature preprocessing  \n"
   ]
  },
  {
   "cell_type": "markdown",
   "id": "10e1f675",
   "metadata": {},
   "source": [
    "## 🔹 1. Broadcasting  \n",
    "Broadcasting allows NumPy to perform arithmetic operations on arrays of **different shapes** without creating unnecessary copies of data.  \n",
    "This is heavily used in ML for tasks like normalization, adding bias terms, or applying weights.\n"
   ]
  },
  {
   "cell_type": "code",
   "execution_count": 2,
   "id": "6a7721bd",
   "metadata": {},
   "outputs": [
    {
     "name": "stdout",
     "output_type": "stream",
     "text": [
      "a + b: [6 7 8]\n",
      "A + B:\n",
      " [[11 22 33]\n",
      " [14 25 36]]\n",
      "C + D:\n",
      " [[11 21 31]\n",
      " [12 22 32]\n",
      " [13 23 33]]\n"
     ]
    }
   ],
   "source": [
    "import numpy as np\n",
    "\n",
    "# Example 1: Scalar + Array\n",
    "a = np.array([1,2,3])\n",
    "b = 5\n",
    "print(\"a + b:\", a + b)  # Broadcasting scalar\n",
    "\n",
    "# Example 2: 2D and 1D array\n",
    "A = np.array([[1,2,3],\n",
    "            [4, 5, 6]])\n",
    "\n",
    "B = np.array([10, 20, 30])\n",
    "print(\"A + B:\\n\", A + B) # Broadcasting row vector\n",
    "\n",
    "# Example 3: Column broadcasting\n",
    "C = np.array([[1],\n",
    "              [2],\n",
    "              [3]])\n",
    "D = np.array([10, 20, 30])\n",
    "print(\"C + D:\\n\", C + D)"
   ]
  },
  {
   "cell_type": "markdown",
   "id": "fff8d797",
   "metadata": {},
   "source": [
    "## 🔹 2. Aggregation Functions  \n",
    "Aggregations help summarize data across rows, columns, or the entire array.  \n",
    "Examples include sum, mean, min, max, and standard deviation.  \n",
    "These are critical in ML for loss calculation, feature scaling, and pooling layers.\n"
   ]
  },
  {
   "cell_type": "code",
   "execution_count": 3,
   "id": "0447b7a5",
   "metadata": {},
   "outputs": [
    {
     "name": "stdout",
     "output_type": "stream",
     "text": [
      "X:\n",
      " [[43 90 90 50]\n",
      " [74 80  2 31]\n",
      " [ 1  5 77 37]\n",
      " [84 35  9 58]\n",
      " [45 97 86 48]]\n",
      "Sum of all elements: 1042\n",
      "Column wise sum:  [247 307 264 224]\n",
      "Row-wise mean:  [68.25 46.75 30.   46.5  69.  ]\n",
      "Standard deviation: 31.0530191768852\n"
     ]
    }
   ],
   "source": [
    "X = np.random.randint(1, 100, size=(5,4))\n",
    "print(\"X:\\n\", X)\n",
    "\n",
    "print(\"Sum of all elements:\", X.sum())\n",
    "print(\"Column wise sum: \", X.sum(axis=0))\n",
    "print(\"Row-wise mean: \", X.mean(axis=1))\n",
    "print(\"Standard deviation:\", X.std())"
   ]
  },
  {
   "cell_type": "markdown",
   "id": "f79887f6",
   "metadata": {},
   "source": [
    "## 🔹 3. Advanced Indexing  \n",
    "NumPy provides advanced ways of selecting subsets of data.  \n",
    "This includes:  \n",
    "- **Boolean masking** → filtering based on conditions  \n",
    "- **Fancy indexing** → selecting by lists/arrays of indices  \n",
    "- **Combined conditions** → filtering with multiple rules  \n"
   ]
  },
  {
   "cell_type": "code",
   "execution_count": null,
   "id": "fdeecf56",
   "metadata": {},
   "outputs": [
    {
     "name": "stdout",
     "output_type": "stream",
     "text": [
      "Original: [0 1 2 3 4 5 6 7 8 9]\n",
      "Even numbers: [0 2 4 6 8]\n"
     ]
    }
   ],
   "source": [
    "# Boolean masking\n",
    "\n",
    "arr = np.arange(10)\n",
    "mask = arr % 2 == 0\n",
    "print(\"Original:\", arr)\n",
    "print(\"Even numbers:\", arr[mask])"
   ]
  },
  {
   "cell_type": "code",
   "execution_count": null,
   "id": "564ba724",
   "metadata": {},
   "outputs": [
    {
     "name": "stdout",
     "output_type": "stream",
     "text": [
      "Selected elements: [10 30 50]\n"
     ]
    }
   ],
   "source": [
    "# Fancy indexing\n",
    "\n",
    "arr = np.array([10, 20, 30, 40, 50])\n",
    "indices = [0, 2, 4]\n",
    "\n",
    "print(\"Selected elements:\", arr[indices])"
   ]
  },
  {
   "cell_type": "code",
   "execution_count": 7,
   "id": "87961ecb",
   "metadata": {},
   "outputs": [
    {
     "name": "stdout",
     "output_type": "stream",
     "text": [
      "Data [ 1.97577635 -0.56067754 -1.83743454 -0.45436996 -1.28178779 -0.52369837\n",
      "  0.88741952 -0.86428356 -0.66198782 -0.17450041]\n",
      "Values > 0 [1.97577635 0.88741952]\n",
      "Values between -1 and 1: [-0.56067754 -0.45436996 -0.52369837  0.88741952 -0.86428356 -0.66198782\n",
      " -0.17450041]\n"
     ]
    }
   ],
   "source": [
    "# Combining Conditions\n",
    "\n",
    "data = np.random.randn(10)\n",
    "print(\"Data\", data)\n",
    "print(\"Values > 0\", data[data > 0])\n",
    "print(\"Values between -1 and 1:\", data[(data > -1) & (data < 1)])"
   ]
  },
  {
   "cell_type": "markdown",
   "id": "aac979e4",
   "metadata": {},
   "source": [
    "## 🎯 4. Practical Example — Feature Normalization  \n",
    "Machine Learning algorithms often require features to be on a similar scale.  \n",
    "Here we normalize features by subtracting the mean and dividing by the standard deviation (z-score normalization)."
   ]
  },
  {
   "cell_type": "code",
   "execution_count": 8,
   "id": "55066556",
   "metadata": {},
   "outputs": [
    {
     "name": "stdout",
     "output_type": "stream",
     "text": [
      "Original features: \n",
      " [[  50  200 3000]\n",
      " [  60  210 3200]\n",
      " [  55  190 3100]\n",
      " [  65  205 3300]\n",
      " [  70  215 3400]]\n",
      "\n",
      "Mean:\n",
      " [  60.  204. 3200.]\n",
      "\n",
      "Standard deviation:\n",
      " [  7.07106781   8.60232527 141.42135624]\n",
      "\n",
      "Normalized features: \n",
      " [[-1.41421356 -0.46499055 -1.41421356]\n",
      " [ 0.          0.69748583  0.        ]\n",
      " [-0.70710678 -1.62746694 -0.70710678]\n",
      " [ 0.70710678  0.11624764  0.70710678]\n",
      " [ 1.41421356  1.27872403  1.41421356]]\n"
     ]
    }
   ],
   "source": [
    "# Dataset with 5 samples % 3 features\n",
    "\n",
    "features = np.array([[50, 200, 3000],\n",
    "                     [60, 210, 3200],\n",
    "                     [55, 190, 3100],\n",
    "                     [65, 205, 3300],\n",
    "                     [70, 215, 3400]])\n",
    "\n",
    "print(\"Original features: \\n\", features)\n",
    "\n",
    "# mean normalization\n",
    "\n",
    "mean = features.mean(axis=0)\n",
    "std = features.std(axis = 0)\n",
    "normalized = (features - mean) / std\n",
    "\n",
    "print(\"\\nMean:\\n\", mean)\n",
    "print(\"\\nStandard deviation:\\n\", std)\n",
    "print(\"\\nNormalized features: \\n\", normalized)"
   ]
  },
  {
   "cell_type": "markdown",
   "id": "b01775f4",
   "metadata": {},
   "source": [
    "## ✅ Summary  \n",
    "\n",
    "In this notebook, we covered:  \n",
    "- 🔹 Broadcasting → operations across mismatched shapes  \n",
    "- 🔹 Aggregations → statistics like sum, mean, std  \n",
    "- 🔹 Advanced indexing → boolean masking & fancy indexing  \n",
    "- 🔹 ML Example → feature normalization  "
   ]
  }
 ],
 "metadata": {
  "kernelspec": {
   "display_name": "Python 3",
   "language": "python",
   "name": "python3"
  },
  "language_info": {
   "codemirror_mode": {
    "name": "ipython",
    "version": 3
   },
   "file_extension": ".py",
   "mimetype": "text/x-python",
   "name": "python",
   "nbconvert_exporter": "python",
   "pygments_lexer": "ipython3",
   "version": "3.12.5"
  }
 },
 "nbformat": 4,
 "nbformat_minor": 5
}
